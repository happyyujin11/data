{
 "cells": [
  {
   "cell_type": "code",
   "execution_count": 2,
   "metadata": {},
   "outputs": [
    {
     "name": "stdout",
     "output_type": "stream",
     "text": [
      "10\n",
      "<class 'int'>\n",
      "test\n",
      "<class 'str'>\n"
     ]
    }
   ],
   "source": [
    "#변수 생성하기\n",
    "#변수명=데이터값\n",
    "#실행하기: 쉬프트+엔터\n",
    "\n",
    "a=10\n",
    "b=\"test\"\n",
    "#a변수를 출력하기\n",
    "print(a)\n",
    "#a의 데이터타입을 출력\n",
    "print(type(a))\n",
    "#b변수 출력\n",
    "print(b)\n",
    "#b의 데이터타입을 출력\n",
    "print(type(b))\n",
    "\n",
    "#class를 자동으로 지정해준다\n"
   ]
  },
  {
   "cell_type": "code",
   "execution_count": 3,
   "metadata": {},
   "outputs": [
    {
     "name": "stdout",
     "output_type": "stream",
     "text": [
      "<class 'bool'>\n"
     ]
    }
   ],
   "source": [
    "#bool 데이터 형태:참 (True) /거짓 (False)\n",
    "#비교연산자를 이용할 때 데이터의 값\n",
    "\n",
    "a=True\n",
    "print(type(a))"
   ]
  },
  {
   "cell_type": "code",
   "execution_count": 4,
   "metadata": {},
   "outputs": [
    {
     "name": "stdout",
     "output_type": "stream",
     "text": [
      "<class 'float'>\n"
     ]
    }
   ],
   "source": [
    "#실수 형태의 데이터\n",
    "b=3.14\n",
    "print(type(b))\n"
   ]
  },
  {
   "cell_type": "code",
   "execution_count": 1,
   "metadata": {},
   "outputs": [
    {
     "name": "stdout",
     "output_type": "stream",
     "text": [
      "10\n",
      "10\n",
      "10\n",
      "20\n",
      "20.5\n",
      "happy\n"
     ]
    }
   ],
   "source": [
    "#여러개의 변수를 동시에 지정하기\n",
    "a=b=c=10\n",
    "d,e,f=20, 20.5, 'happy'\n",
    "\n",
    "print(a)\n",
    "print(b)\n",
    "print(c)\n",
    "print(d)\n",
    "print(e)\n",
    "print(f)\n"
   ]
  },
  {
   "cell_type": "code",
   "execution_count": 2,
   "metadata": {},
   "outputs": [
    {
     "name": "stdout",
     "output_type": "stream",
     "text": [
      "40\n",
      "20\n",
      "300\n",
      "3.0\n",
      "3\n",
      "0\n",
      "590490000000000\n"
     ]
    }
   ],
   "source": [
    "#산술연산자:사칙연산\n",
    "\n",
    "a=30\n",
    "b=10\n",
    "\n",
    "#덧셈\n",
    "print(a+b)\n",
    "#뺄셈\n",
    "print(a-b)\n",
    "#곱셈\n",
    "print(a*b)\n",
    "#나눗셈\n",
    "print(a/b)\n",
    "#몫\n",
    "print(a//b)\n",
    "#나머지\n",
    "print(a%b)\n",
    "#제곱\n",
    "print(a**b)\n"
   ]
  },
  {
   "cell_type": "code",
   "execution_count": 3,
   "metadata": {},
   "outputs": [
    {
     "name": "stdout",
     "output_type": "stream",
     "text": [
      "50\n",
      "80\n"
     ]
    }
   ],
   "source": [
    "#산술연산자의 우선순위_곱하기와 나누기가 먼저 실행되고, 더하기와 빼기가 나중에 실행된다\n",
    "\n",
    "c=2\n",
    "#b*c가 먼저 실행된다\n",
    "print(a+b*c)\n",
    "\n",
    "#더하기를 먼저 실행하려면, ()로 묶어준다\n",
    "print((a+b)*c)"
   ]
  },
  {
   "cell_type": "code",
   "execution_count": 7,
   "metadata": {},
   "outputs": [
    {
     "name": "stdout",
     "output_type": "stream",
     "text": [
      "100\n",
      "105\n",
      "95\n",
      "190\n"
     ]
    }
   ],
   "source": [
    "#대입 연산자_산술연산자 뒤에 =을 붙인 연산자\n",
    "\n",
    "a=100\n",
    "print(a)\n",
    "\n",
    "a+=5    #a=a+5\n",
    "print(a)\n",
    "\n",
    "a-=10    #a=a-5\n",
    "print(a)\n",
    "\n",
    "a*=2\n",
    "print(a)\n",
    "\n"
   ]
  },
  {
   "cell_type": "code",
   "execution_count": 12,
   "metadata": {},
   "outputs": [
    {
     "ename": "SyntaxError",
     "evalue": "unmatched ')' (1011084201.py, line 1)",
     "output_type": "error",
     "traceback": [
      "\u001b[1;36m  Cell \u001b[1;32mIn[12], line 1\u001b[1;36m\u001b[0m\n\u001b[1;33m    print(a-=3))\u001b[0m\n\u001b[1;37m               ^\u001b[0m\n\u001b[1;31mSyntaxError\u001b[0m\u001b[1;31m:\u001b[0m unmatched ')'\n"
     ]
    }
   ],
   "source": [
    "print(a-=3))   #에러가 나는 이유를 반드시 읽어보세요  # "
   ]
  },
  {
   "cell_type": "code",
   "execution_count": 16,
   "metadata": {},
   "outputs": [
    {
     "name": "stdout",
     "output_type": "stream",
     "text": [
      "4\n",
      "20\n"
     ]
    }
   ],
   "source": [
    "a-=3\n",
    "print(a)\n",
    "\n",
    "a*=5\n",
    "print(a)"
   ]
  },
  {
   "cell_type": "code",
   "execution_count": 8,
   "metadata": {},
   "outputs": [
    {
     "name": "stdout",
     "output_type": "stream",
     "text": [
      "False\n",
      "True\n",
      "False\n",
      "False\n",
      "True\n"
     ]
    }
   ],
   "source": [
    "#비교연산자\n",
    "#비교연산자를 이용해서 나온 논리값들을 논리연산자로 묶어셔 표현\n",
    "\n",
    "a=10\n",
    "print(a>20)\n",
    "print(a<=20)  #작거나 같다\n",
    "print(a>=20)  #크거나 같다\n",
    "print(a==20)  #같다\n",
    "print(a!=20)  #같지 않다"
   ]
  },
  {
   "cell_type": "code",
   "execution_count": 10,
   "metadata": {},
   "outputs": [
    {
     "name": "stdout",
     "output_type": "stream",
     "text": [
      "False\n",
      "True\n",
      "True\n",
      "True\n",
      "True\n",
      "False\n"
     ]
    }
   ],
   "source": [
    "#and  연산자 : 2개의 논리값이 모두 참일때 출력해\n",
    "a=10\n",
    "print((a>20)and (a<30))\n",
    "print(a>20 & a<30)\n",
    "\n",
    "#or 연산자  :둘중에 하나만 참이어도 실행해\n",
    "print((a>30) or (a<40))\n",
    "print(a<40 | a>30)   #쉬프트+원화표시:파이프연산자\n",
    "\n",
    "#not 부정 연산자\n",
    "a=True\n",
    "print(a)\n",
    "print(not(a))"
   ]
  },
  {
   "cell_type": "markdown",
   "metadata": {},
   "source": [
    "# 조건문 if문\n",
    "- 조건문 (if문)_ 조건식이 참인경우에 실행\n",
    "- else문_거짓일때 실행할코드는, else 구문에 코드를 작성한다\n",
    "- elif문_조건식이 여러개인 경우는: elif 조건식을 작성한다\n"
   ]
  },
  {
   "cell_type": "code",
   "execution_count": 11,
   "metadata": {},
   "outputs": [
    {
     "name": "stdout",
     "output_type": "stream",
     "text": [
      "a는 20보다 작다\n",
      "프로그램 종료\n"
     ]
    }
   ],
   "source": [
    "#기본적인 if문\n",
    "\n",
    "a=10\n",
    "\n",
    "if a<20:\n",
    "  print('a는 20보다 작다')\n",
    "\n",
    "print('프로그램 종료')  #들여쓰기 조심할 것\n"
   ]
  },
  {
   "cell_type": "code",
   "execution_count": 12,
   "metadata": {},
   "outputs": [
    {
     "name": "stdout",
     "output_type": "stream",
     "text": [
      "a(10)은 20보다 크거나 작다\n",
      "프로그램 종료\n"
     ]
    }
   ],
   "source": [
    "#if~else문\n",
    "\n",
    "a=10\n",
    "\n",
    "if a<5:         #참일 경우\n",
    "    print('10는 5보다 작다')\n",
    "AS\n",
    "else:             #거짓일 경우\n",
    "  print('a(10)은 20보다 크거나 작다')\n",
    "print('프로그램 종료')"
   ]
  },
  {
   "cell_type": "code",
   "execution_count": 34,
   "metadata": {},
   "outputs": [
    {
     "name": "stdout",
     "output_type": "stream",
     "text": [
      "82\n",
      "B학점\n",
      "프로그램 종료\n"
     ]
    }
   ],
   "source": [
    "#조건식이 여러개인 경우 (예:해당하는 학점)\n",
    "score=int(input('점수를 입력하시오'))  #int함수: 숫자로 바꿔  #값을 입력받는 함수:input\n",
    "print(score)\n",
    "\n",
    "if score >=90:   #90점 이상이면\n",
    "    print('A학점')\n",
    "\n",
    "elif score>=80:  #80점 이상이면 & 90점 미만인경우\n",
    "    print('B학점')\n",
    "\n",
    "elif score>=70:  #70점이상이면 &80점미만인경우\n",
    "    print('C학점')\n",
    "\n",
    "else:\n",
    "    print('F학점')  #위의 조건식이 모두 거짓이면\n",
    "\n",
    "print('프로그램 종료')   #프로그램 종료를 넣어주는 것이 도움이 많이 된다\n"
   ]
  },
  {
   "cell_type": "markdown",
   "metadata": {},
   "source": []
  },
  {
   "cell_type": "code",
   "execution_count": 37,
   "metadata": {},
   "outputs": [
    {
     "name": "stdout",
     "output_type": "stream",
     "text": [
      "로그인 성공\n",
      "로그인 성공\n"
     ]
    }
   ],
   "source": [
    "#조건식 2개를 모두 만족해야하는 경우_아이디와 패스워드 입력\n",
    "\n",
    "input_id=input('아이디를 입력하시오')\n",
    "input_password=input('패스워드를 입력하시오')\n",
    "\n",
    "if input_id=='test':\n",
    "    if input_password=='1234':\n",
    "        print('로그인 성공')\n",
    "    else:\n",
    "        print('로그인 실패')\n",
    "\n",
    "else:\n",
    "    print('로그인 실패')\n",
    "\n",
    "if (input_id=='test')&(input_password=='1234'):   #괄호로 묶어주어야 함\n",
    "   print('로그인 성공')\n",
    "\n",
    "else:\n",
    "   print('로그인 실패')"
   ]
  },
  {
   "cell_type": "code",
   "execution_count": 40,
   "metadata": {},
   "outputs": [
    {
     "name": "stdout",
     "output_type": "stream",
     "text": [
      "<class 'str'>\n",
      "x가 존재하지 않는다\n"
     ]
    }
   ],
   "source": [
    "#데이터가 존재하는지의 if 문도 쓴다\n",
    "\n",
    "x=''   #띄어쓰기하면 데이터가 존재한다고 인식한다\n",
    "print(type(x))\n",
    "\n",
    "if x:\n",
    "    print('x가 존재한다')\n",
    "else:\n",
    "    print('x가 존재하지 않는다')"
   ]
  },
  {
   "cell_type": "code",
   "execution_count": 42,
   "metadata": {},
   "outputs": [
    {
     "name": "stdout",
     "output_type": "stream",
     "text": [
      "거짓\n"
     ]
    }
   ],
   "source": [
    "y=0       #0을 false로 인식한다  #1은 True로 인식한다\n",
    "if y:\n",
    "    print('참')\n",
    "else:\n",
    "    print('거짓')"
   ]
  },
  {
   "cell_type": "markdown",
   "metadata": {},
   "source": [
    "## 반복문\n",
    "- for문\n",
    "  - range (시작값, 종료값, 증가값)\n",
    "    :시작값부터 종료값이 되기전까지, 증가값만큼 증가시키면서, 반복해\n",
    "  - 자료형 데이터를 넣거나, range를 넣거나\n",
    "\n",
    "- while문\n",
    "  - 초기값을 지정하고, 해당하는 초기값을 조건식과 비교하여 거짓이 될때까지 반복시킨다"
   ]
  },
  {
   "cell_type": "code",
   "execution_count": 43,
   "metadata": {},
   "outputs": [
    {
     "name": "stdout",
     "output_type": "stream",
     "text": [
      "range(1, 10)\n",
      "[1, 2, 3, 4, 5, 6, 7, 8, 9]\n"
     ]
    }
   ],
   "source": [
    "# range (시작값, 종료값, 증가값)\n",
    "\n",
    "a=range(1,10,1)\n",
    "print(a)\n",
    "\n",
    "print(list(a))  #리스트로 바꿔"
   ]
  },
  {
   "cell_type": "code",
   "execution_count": 45,
   "metadata": {},
   "outputs": [
    {
     "name": "stdout",
     "output_type": "stream",
     "text": [
      "1\n",
      "2\n",
      "3\n",
      "4\n",
      "5\n",
      "6\n",
      "7\n",
      "8\n",
      "9\n",
      "1\n",
      "3\n",
      "5\n",
      "7\n",
      "9\n"
     ]
    }
   ],
   "source": [
    "#for문의 기본형:for+range\n",
    "\n",
    "for i in range(1,10,1):   #1~9까지 반복해\n",
    "    print(i)\n",
    "\n",
    "for i in range(1,10,2):   #1~9까지 반복해\n",
    "    print(i)\n"
   ]
  },
  {
   "cell_type": "code",
   "execution_count": 47,
   "metadata": {},
   "outputs": [
    {
     "name": "stdout",
     "output_type": "stream",
     "text": [
      "10\n",
      "20\n",
      "30\n",
      "40\n",
      "80\n"
     ]
    }
   ],
   "source": [
    "#for + list\n",
    "#range형태의 for문도 쓰고, list형태의 for문도 많이 쓴다\n",
    "\n",
    "_list=[10,20,30,40,80]\n",
    "\n",
    "for i in _list:   #이 리스트의 길이만큼 반복해\n",
    "    print(i)"
   ]
  },
  {
   "cell_type": "code",
   "execution_count": null,
   "metadata": {},
   "outputs": [],
   "source": [
    "# 튜플\n",
    "# 튜플"
   ]
  },
  {
   "cell_type": "markdown",
   "metadata": {},
   "source": [
    "# 튜플\n",
    "### 자료형 데이터중 가장 기본적인 데이터의 형태\n",
    "### 데이터들을 수정하거나 삭제가 불가능"
   ]
  },
  {
   "cell_type": "code",
   "execution_count": 2,
   "metadata": {},
   "outputs": [
    {
     "name": "stdout",
     "output_type": "stream",
     "text": [
      "(1, '굿모닝')\n",
      "(2, 2.33)\n",
      "1\n",
      "굿모닝\n",
      "(1, '굿모닝', 2, 2.33)\n"
     ]
    }
   ],
   "source": [
    "a=(1, '굿모닝')\n",
    "b=(2, 2.33)\n",
    "\n",
    "print(a)\n",
    "print(b)\n",
    "\n",
    "print(a[0])   #0번째 값을 출력해\n",
    "print(a[1])   #1번째 값을 출력해\n",
    "\n",
    "# 튶플의 합\n",
    "print (a+b)"
   ]
  },
  {
   "cell_type": "code",
   "execution_count": null,
   "metadata": {},
   "outputs": [],
   "source": []
  },
  {
   "cell_type": "markdown",
   "metadata": {},
   "source": [
    "## 리스트라는 데이터 형태\n",
    "- 튜플과는 다르게, 데이터 수정.삭제.추가 가능\n"
   ]
  },
  {
   "cell_type": "code",
   "execution_count": 54,
   "metadata": {},
   "outputs": [
    {
     "name": "stdout",
     "output_type": "stream",
     "text": [
      "[10, 20, 30, 40, 50]\n"
     ]
    }
   ],
   "source": [
    "a_list=[30,20,10,50,40]\n",
    "b_list=[1,2,3,4]\n",
    "\n",
    "a_list.sort()   #sort함수: 오름차순 정렬\n",
    "print(a_list)\n",
    "\n"
   ]
  },
  {
   "cell_type": "code",
   "execution_count": 55,
   "metadata": {},
   "outputs": [
    {
     "name": "stdout",
     "output_type": "stream",
     "text": [
      "[50, 40, 30, 20, 10]\n"
     ]
    }
   ],
   "source": [
    "a_list.reverse()    #reverse: 역순으로 변경\n",
    "print(a_list)"
   ]
  },
  {
   "cell_type": "code",
   "execution_count": 56,
   "metadata": {},
   "outputs": [
    {
     "name": "stdout",
     "output_type": "stream",
     "text": [
      "[50, 40, 30, 20, 10]\n"
     ]
    }
   ],
   "source": [
    "a_list.sort(reverse=True)  #  내림차순 정렬\n",
    "print(a_list)"
   ]
  },
  {
   "cell_type": "code",
   "execution_count": 58,
   "metadata": {},
   "outputs": [
    {
     "name": "stdout",
     "output_type": "stream",
     "text": [
      "[4, 3, 2, 1]\n"
     ]
    }
   ],
   "source": [
    "b_list.reverse()  #역순으로! (내림차순 아님)\n",
    "print(b_list)"
   ]
  },
  {
   "cell_type": "code",
   "execution_count": 3,
   "metadata": {},
   "outputs": [
    {
     "name": "stdout",
     "output_type": "stream",
     "text": [
      "[1, 2, 3, 4, 10]\n"
     ]
    }
   ],
   "source": [
    "#append :뒤에 추가해(하나씩)\n",
    "#여러개의 데이터를 넣을때는extend\n",
    "b_list=[1,2,3,4]\n",
    "b_list.append(10)    #append :뒤에 추가\n",
    "print(b_list)"
   ]
  },
  {
   "cell_type": "code",
   "execution_count": 4,
   "metadata": {},
   "outputs": [
    {
     "name": "stdout",
     "output_type": "stream",
     "text": [
      "[30, 20, 10, 50]\n"
     ]
    }
   ],
   "source": [
    "#pop(): 가장 마지막것 삭제\n",
    "a_list=[30,20,10,50,40]\n",
    "a_list.pop()\n",
    "print(a_list)"
   ]
  },
  {
   "cell_type": "code",
   "execution_count": 5,
   "metadata": {},
   "outputs": [
    {
     "name": "stdout",
     "output_type": "stream",
     "text": [
      "[20, 10, 50]\n"
     ]
    }
   ],
   "source": [
    "#del: 특정위치의 데이터를 삭제\n",
    "\n",
    "del a_list[0]  #del: 특정위치의 데이터를 삭제  #첫번째 것 삭제\n",
    "print(a_list)"
   ]
  },
  {
   "cell_type": "code",
   "execution_count": 63,
   "metadata": {},
   "outputs": [
    {
     "name": "stdout",
     "output_type": "stream",
     "text": [
      "3\n"
     ]
    }
   ],
   "source": [
    "# len(): 리스트의 길이를 출력, 몇개야?\n",
    "print(len(a_list)) # len(): 리스트의 길이를 출력"
   ]
  },
  {
   "cell_type": "code",
   "execution_count": 64,
   "metadata": {},
   "outputs": [
    {
     "name": "stdout",
     "output_type": "stream",
     "text": [
      "[40, 30, 20]\n"
     ]
    }
   ],
   "source": [
    "#copy(): 리스트 복사해\n",
    "\n",
    "c_list=a_list  #a리스트에 c리스트를 복사해\n",
    "print(c_list)"
   ]
  },
  {
   "cell_type": "code",
   "execution_count": 66,
   "metadata": {},
   "outputs": [
    {
     "name": "stdout",
     "output_type": "stream",
     "text": [
      "[40, 30, 20, 100, 100]\n",
      "[40, 30, 20, 100, 100]\n"
     ]
    }
   ],
   "source": [
    "#append 함수\n",
    "a_list.append(100)\n",
    "print(a_list)\n",
    "\n",
    "print(c_list)"
   ]
  },
  {
   "cell_type": "code",
   "execution_count": 69,
   "metadata": {},
   "outputs": [
    {
     "name": "stdout",
     "output_type": "stream",
     "text": [
      "[40, 30, 20, 100, 100]\n",
      "[40, 30, 20, 100]\n",
      "[4, 3, 2, 1, 10, 10]\n",
      "[40, 30, 20, 100]\n"
     ]
    }
   ],
   "source": [
    "#copy를 왜 쓰나? : 데이터가 많을때, 정기적으로 데이터를 복사해둔다.\n",
    "#copy: 복사본만들때 함수임\n",
    "\n",
    "d_list=a_list.copy()\n",
    "print(d_list)\n",
    "\n",
    "a_list.pop()\n",
    "print(a_list)\n",
    "print(b_list)\n",
    "print(c_list)"
   ]
  },
  {
   "cell_type": "markdown",
   "metadata": {},
   "source": [
    "## 리스트의 특징\n",
    "#### 리스트는 원소의 개수가 0개부터 생성됨\n",
    "#### 비어있는 리스트를 생성할 수 있다"
   ]
  },
  {
   "cell_type": "code",
   "execution_count": 73,
   "metadata": {},
   "outputs": [
    {
     "name": "stdout",
     "output_type": "stream",
     "text": [
      "[]\n",
      "[10]\n"
     ]
    }
   ],
   "source": [
    "result=[]\n",
    "print(result)\n",
    "\n",
    "result.append(10)\n",
    "print(result)"
   ]
  },
  {
   "cell_type": "code",
   "execution_count": 6,
   "metadata": {},
   "outputs": [
    {
     "name": "stdout",
     "output_type": "stream",
     "text": [
      "[9, 18, 27, 36, 45, 54, 63, 72, 81, 90, 99]\n"
     ]
    }
   ],
   "source": [
    "#1~100 숫자중, 9의 배수만 따로 리스트로 출력하기\n",
    "#비어있는 리스트를 생성\n",
    "#비어있는 리스트를 만드는 이유:특정한 데이터를 뽑아서 넣는다\n",
    "\n",
    "result=[]\n",
    "\n",
    "#1부터 100까지 반복을 하는 반복문 생성\n",
    "for i in range(1,101,1):\n",
    "    if i % 9==0:   #9의 배수 조건식 작성\n",
    "        result.append(i)      #조건식이 참이면, 비어있는 리스트에 i를 추가한다\n",
    "print(result)\n"
   ]
  },
  {
   "cell_type": "code",
   "execution_count": 77,
   "metadata": {},
   "outputs": [
    {
     "name": "stdout",
     "output_type": "stream",
     "text": [
      "[3, 6, 9, 12, 15, 18, 21, 24, 27, 30, 33, 36, 39, 42, 45, 48, 51, 54, 57, 60, 63, 66, 69, 72, 75, 78, 81, 84, 87, 90, 93, 96, 99]\n"
     ]
    }
   ],
   "source": [
    "#3의 배수 넣는 또 다른 방법2 ( 근데, 이건 계산한 후에야 가능하니 )\n",
    "\n",
    "result=[]\n",
    "for i in range (1,34,1):\n",
    "    result.append(i*3)\n",
    "print(result)\n"
   ]
  },
  {
   "cell_type": "code",
   "execution_count": 76,
   "metadata": {},
   "outputs": [
    {
     "name": "stdout",
     "output_type": "stream",
     "text": [
      "[3, 6, 9, 12, 15, 18, 21, 24, 27, 30, 33, 36, 39, 42, 45, 48, 51, 54, 57, 60, 63, 66, 69, 72, 75, 78, 81, 84, 87, 90, 93, 96, 99]\n"
     ]
    }
   ],
   "source": [
    "#3의 배수 넣는 또 다른 방법3\n",
    "\n",
    "result=[]\n",
    "\n",
    "for i in range(3, 101, 3):\n",
    "    result.append(i)      #비어있는 리스트에 i를 추가한다\n",
    "print(result)"
   ]
  },
  {
   "cell_type": "markdown",
   "metadata": {},
   "source": [
    "## while문\n"
   ]
  },
  {
   "cell_type": "code",
   "execution_count": 78,
   "metadata": {},
   "outputs": [
    {
     "name": "stdout",
     "output_type": "stream",
     "text": [
      "0\n",
      "1\n",
      "2\n",
      "3\n",
      "4\n"
     ]
    }
   ],
   "source": [
    "a=0\n",
    "while a<5:   #5가되는 순간 거짓이 되니 중단\n",
    "    print(a)\n",
    "    a+=1   #a=a+1\n"
   ]
  },
  {
   "cell_type": "code",
   "execution_count": 79,
   "metadata": {},
   "outputs": [
    {
     "name": "stdout",
     "output_type": "stream",
     "text": [
      "1\n",
      "2\n",
      "3\n",
      "4\n",
      "5\n"
     ]
    }
   ],
   "source": [
    "a=0\n",
    "while a<5:   #5가되는 순간 거짓이 되니 중단\n",
    "    a+=1       #순서가 중요\n",
    "    print(a)   #1부터 결과값이 나온다, 5도 출력된다"
   ]
  },
  {
   "cell_type": "code",
   "execution_count": 14,
   "metadata": {},
   "outputs": [
    {
     "name": "stdout",
     "output_type": "stream",
     "text": [
      "5050\n"
     ]
    }
   ],
   "source": [
    "#1~100까지 합계 구하기\n",
    "#1) 합계라는 초기값을 0으로 시작\n",
    "sum=0    #초기값 지정할때는 반복문 밖에 적어야 한다\n",
    "\n",
    "#2) 1~100까지 반복문 생성\n",
    "for i in range(1,101,1):\n",
    "    #3) sum에 i값 누적 합\n",
    "    sum=sum+i\n",
    "print(sum)"
   ]
  },
  {
   "cell_type": "code",
   "execution_count": 85,
   "metadata": {},
   "outputs": [
    {
     "name": "stdout",
     "output_type": "stream",
     "text": [
      "100\n"
     ]
    }
   ],
   "source": [
    "result=0\n",
    "a=1\n",
    "\n",
    "while a<=10:\n",
    "    result +=i\n",
    "    a+=1\n",
    "\n",
    "print(result)\n"
   ]
  },
  {
   "cell_type": "code",
   "execution_count": 86,
   "metadata": {},
   "outputs": [
    {
     "name": "stdout",
     "output_type": "stream",
     "text": [
      "100\n"
     ]
    }
   ],
   "source": [
    "result=0\n",
    "a=1\n",
    "\n",
    "while a<=10:\n",
    "    a+=1\n",
    "    result +=i\n",
    "\n",
    "print(result)"
   ]
  },
  {
   "cell_type": "code",
   "execution_count": 87,
   "metadata": {},
   "outputs": [
    {
     "name": "stdout",
     "output_type": "stream",
     "text": [
      "1\n",
      "2\n",
      "3\n",
      "4\n"
     ]
    }
   ],
   "source": [
    "#continue _반복문으로 되돌아간다\n",
    "#break문_반복문을 강제로 종료하기\n",
    "\n",
    "for i in range(1,10,1):\n",
    "    if i==5:  #5일때 브레이크\n",
    "        break\n",
    "    print(i)"
   ]
  },
  {
   "cell_type": "code",
   "execution_count": 89,
   "metadata": {},
   "outputs": [
    {
     "name": "stdout",
     "output_type": "stream",
     "text": [
      "1\n",
      "2\n",
      "3\n"
     ]
    }
   ],
   "source": [
    "#while\n",
    "i=1\n",
    "while i<=100:\n",
    "  print(i)\n",
    "  if i==3:\n",
    "    break\n",
    "  i+=1"
   ]
  },
  {
   "cell_type": "code",
   "execution_count": 90,
   "metadata": {},
   "outputs": [
    {
     "name": "stdout",
     "output_type": "stream",
     "text": [
      "3\n",
      "4\n",
      "5\n",
      "6\n",
      "7\n",
      "8\n",
      "9\n"
     ]
    }
   ],
   "source": [
    "#for문~continue\n",
    "#continue: 아래로 가지말고, 위로 되돌아가_속도면에서 증가되는 경우가 있다\n",
    "for i in range (1,10,1):\n",
    "    if i<3:\n",
    "        continue  #3부터 나온다 #contine:아래로 가지말고, 위로 되돌아가\n",
    "    print(i)"
   ]
  },
  {
   "cell_type": "code",
   "execution_count": 92,
   "metadata": {},
   "outputs": [
    {
     "name": "stdout",
     "output_type": "stream",
     "text": [
      "1\n",
      "2\n",
      "3\n",
      "4\n",
      "5\n",
      "6\n",
      "7\n",
      "8\n",
      "9\n"
     ]
    }
   ],
   "source": [
    "#for문\n",
    "for i in range (1,10,1):\n",
    "    print(i)\n",
    "    if i<3:\n",
    "        continue  #continue가 맨뒤에 있는건, 의미없다. 코드만 길어지고, 효율성도 떨어지고, continue가 없어도된다"
   ]
  },
  {
   "cell_type": "code",
   "execution_count": 95,
   "metadata": {},
   "outputs": [
    {
     "name": "stdout",
     "output_type": "stream",
     "text": [
      "1 4\n",
      "2 3\n",
      "3 2\n",
      "4 1\n"
     ]
    }
   ],
   "source": [
    "#2개의 주사위의 합이 5가 나오는 경우를 출력하시오\n",
    "#다중 for 문\n",
    "\n",
    "#첫번째 주사위의 경우의 수:반복문 생성\n",
    "for i in range(1,7,1):         #첫번째 주사위는 i에 표시되고\n",
    "    for j in range (1,7,1):    #두번째 주사위는 j에 표시\n",
    "    #    print(i,j)  #중간에 값이 제대로 나오는지 체크해보고, 주석처리해두세요(지우지말고)\n",
    "        if i+j==5:\n",
    "            print(i,j)"
   ]
  },
  {
   "cell_type": "code",
   "execution_count": null,
   "metadata": {},
   "outputs": [],
   "source": []
  }
 ],
 "metadata": {
  "kernelspec": {
   "display_name": "Python 3",
   "language": "python",
   "name": "python3"
  },
  "language_info": {
   "codemirror_mode": {
    "name": "ipython",
    "version": 3
   },
   "file_extension": ".py",
   "mimetype": "text/x-python",
   "name": "python",
   "nbconvert_exporter": "python",
   "pygments_lexer": "ipython3",
   "version": "3.11.3"
  }
 },
 "nbformat": 4,
 "nbformat_minor": 2
}
