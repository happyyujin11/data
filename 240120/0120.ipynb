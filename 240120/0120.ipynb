{
 "cells": [
  {
   "cell_type": "markdown",
   "metadata": {},
   "source": [
    "# 1. 문자열 내장함수"
   ]
  },
  {
   "cell_type": "markdown",
   "metadata": {},
   "source": []
  },
  {
   "cell_type": "code",
   "execution_count": 1,
   "metadata": {},
   "outputs": [
    {
     "name": "stdout",
     "output_type": "stream",
     "text": [
      "HAPPY SUNDAY\n",
      "happy sunday\n",
      "hAPPY SUNDAY\n",
      "Happy Sunday\n"
     ]
    }
   ],
   "source": [
    "#문자열을 대, 소문자로 변경\n",
    "a_text=\"Happy sunday\"\n",
    "\n",
    "#upper(): 모든 문자를 대문자로 변경하기\n",
    "print(a_text.upper())\n",
    "\n",
    "#lower(): 모든 문자를  소문자로 변경하기\n",
    "print(a_text.lower())\n",
    "\n",
    "#swapcase(): 대문자를 소문자로, 소문자를 대문자로 변경하기\n",
    "print(a_text.swapcase())\n",
    "\n",
    "#title(): 첫글자만 대문자로 변경하기\n",
    "print(a_text.title())"
   ]
  },
  {
   "cell_type": "code",
   "execution_count": 10,
   "metadata": {},
   "outputs": [
    {
     "name": "stdout",
     "output_type": "stream",
     "text": [
      "  hi  goodmorning    \n"
     ]
    },
    {
     "data": {
      "text/plain": [
       "'  hi  goodmorning'"
      ]
     },
     "execution_count": 10,
     "metadata": {},
     "output_type": "execute_result"
    }
   ],
   "source": [
    "# 공백을 제거하는 함수\n",
    "\n",
    "# strip() : 문자열의 좌우 공백 제거\n",
    "# lstrip() : 문자열의 왼쪽 공백 제거\n",
    "# rstrip() : 문자열의 오늘쪽 공백 제거\n",
    "\n",
    "b_text='  hi  goodmorning    '\n",
    "print(b_text)\n",
    "\n",
    "#좌우공백 제거하기\n",
    "b_text.strip()    #print를 안썼는데도 결과가 나온다는건, 확인하는 과정이다 (데이터는 아직 변화되지 않은거다\n",
    "                   #print를 안썼을때, 확인할때 가독성이 좋아서\n",
    "\n",
    "# 좌측 공백 제거하기\n",
    "b_text.lstrip()\n",
    "\n",
    "# 우측 공백 제거하기\n",
    "b_text.rstrip()   \n",
    "\n"
   ]
  },
  {
   "cell_type": "code",
   "execution_count": 4,
   "metadata": {},
   "outputs": [
    {
     "data": {
      "text/plain": [
       "'hi  goodmorning    '"
      ]
     },
     "execution_count": 4,
     "metadata": {},
     "output_type": "execute_result"
    }
   ],
   "source": [
    "# 좌측 공백 제거하기\n",
    "b_text.lstrip()\n"
   ]
  },
  {
   "cell_type": "code",
   "execution_count": 6,
   "metadata": {},
   "outputs": [
    {
     "data": {
      "text/plain": [
       "'  hi  goodmorning'"
      ]
     },
     "execution_count": 6,
     "metadata": {},
     "output_type": "execute_result"
    }
   ],
   "source": [
    "# 우측 공백 제거하기\n",
    "b_text.rstrip()    "
   ]
  },
  {
   "cell_type": "code",
   "execution_count": 8,
   "metadata": {},
   "outputs": [
    {
     "name": "stdout",
     "output_type": "stream",
     "text": [
      "$$good morning%%\n"
     ]
    },
    {
     "data": {
      "text/plain": [
       "'good morning%%'"
      ]
     },
     "execution_count": 8,
     "metadata": {},
     "output_type": "execute_result"
    }
   ],
   "source": [
    "# 좌측의 $만 제거하기\n",
    "c_text='$$good morning%%'\n",
    "print(c_text)\n",
    "c_text.lstrip('$')"
   ]
  },
  {
   "cell_type": "code",
   "execution_count": 11,
   "metadata": {},
   "outputs": [
    {
     "data": {
      "text/plain": [
       "'$$good morning'"
      ]
     },
     "execution_count": 11,
     "metadata": {},
     "output_type": "execute_result"
    }
   ],
   "source": [
    "# 우측의 %만 제거하기\n",
    "c_text.rstrip('%')"
   ]
  },
  {
   "cell_type": "code",
   "execution_count": 15,
   "metadata": {},
   "outputs": [
    {
     "data": {
      "text/plain": [
       "'hello good morning'"
      ]
     },
     "execution_count": 15,
     "metadata": {},
     "output_type": "execute_result"
    }
   ],
   "source": [
    "# replce (\"치환할 문자열\", \"치환될 문자열\")\n",
    "#replace를 굉장히 많이 쓴다\n",
    "\n",
    "c_text='hi good morning'\n",
    "c_text.replace('hi','hello')"
   ]
  },
  {
   "cell_type": "code",
   "execution_count": 16,
   "metadata": {},
   "outputs": [
    {
     "data": {
      "text/plain": [
       "'   hi  good     morning   '"
      ]
     },
     "execution_count": 16,
     "metadata": {},
     "output_type": "execute_result"
    }
   ],
   "source": [
    "# replace로 문자열 공백 제거하기\n",
    "\n",
    "d_text='   hi  good     morning   '\n",
    "d_text"
   ]
  },
  {
   "cell_type": "code",
   "execution_count": 18,
   "metadata": {},
   "outputs": [
    {
     "data": {
      "text/plain": [
       "'higoodmorning'"
      ]
     },
     "execution_count": 18,
     "metadata": {},
     "output_type": "execute_result"
    }
   ],
   "source": [
    "d_text.replace(' ','')"
   ]
  },
  {
   "cell_type": "code",
   "execution_count": 19,
   "metadata": {},
   "outputs": [
    {
     "data": {
      "text/plain": [
       "['a', 'b', 'c', 'd']"
      ]
     },
     "execution_count": 19,
     "metadata": {},
     "output_type": "execute_result"
    }
   ],
   "source": [
    "# split() : 특정한 문자열을 이용해 , 문자열 나눠주는 함수\n",
    "e_text='a,b,c,d'\n",
    "e_text.split(',')"
   ]
  },
  {
   "cell_type": "code",
   "execution_count": 20,
   "metadata": {},
   "outputs": [
    {
     "data": {
      "text/plain": [
       "['a', 'b', 'c', 'd']"
      ]
     },
     "execution_count": 20,
     "metadata": {},
     "output_type": "execute_result"
    }
   ],
   "source": [
    "f_text='a/b/c/d'\n",
    "f_text.split('/')"
   ]
  },
  {
   "cell_type": "markdown",
   "metadata": {},
   "source": [
    "#  2. 함수\n",
    "###  - 어떠한 입력값을 가지고, 작업을 실행하고, 결과물을 출력한다\n",
    "- 매개변수가 존재하지 않는 경우: 동일한 행동을 반복한다\n"
   ]
  },
  {
   "cell_type": "code",
   "execution_count": 21,
   "metadata": {},
   "outputs": [],
   "source": [
    "def func_1():\n",
    "    result='hello'   #resuit라는 변수를 만든다\n",
    "    return result    "
   ]
  },
  {
   "cell_type": "code",
   "execution_count": 22,
   "metadata": {},
   "outputs": [
    {
     "name": "stdout",
     "output_type": "stream",
     "text": [
      "hello\n"
     ]
    }
   ],
   "source": [
    "print(func_1())"
   ]
  },
  {
   "cell_type": "code",
   "execution_count": 26,
   "metadata": {},
   "outputs": [],
   "source": [
    "# a,b라는 매개변수가 존재하는 함수\n",
    "def func_2(a,b):\n",
    "    result=a+b\n",
    "    return result   #result라는 결과값을 돌려주겠다"
   ]
  },
  {
   "cell_type": "code",
   "execution_count": 27,
   "metadata": {},
   "outputs": [
    {
     "name": "stdout",
     "output_type": "stream",
     "text": [
      "9\n",
      "3\n"
     ]
    }
   ],
   "source": [
    "# 매개변수가 2개인 함수 호출하기 => 인자의 갯수도 2개여야 함\n",
    "# : 해당하는 함수를 호출할때는 매개변수의 수와=인자의 갯수가 동일\n",
    "\n",
    "print(func_2(4,5))   #a에 4넣고, b에 5라는 인자값 넣어줘\n",
    "print(func_2(1,2)) "
   ]
  },
  {
   "cell_type": "code",
   "execution_count": null,
   "metadata": {},
   "outputs": [],
   "source": [
    "# 매개변수의 개수와 인자의 갯수를 다르게 호출하면, 에러난다"
   ]
  },
  {
   "cell_type": "code",
   "execution_count": 28,
   "metadata": {},
   "outputs": [],
   "source": [
    "# 함수를 생성할 때, 매개변수에 기본값을 지정하기\n",
    "#: 함수쓸 때 기본값을 지정하면 더 편리하다\n",
    "\n",
    "def func_3(a,b=2):  #b라는 매개변수에 2를 기본값으로 넣어\n",
    "    result=a**b\n",
    "    return result"
   ]
  },
  {
   "cell_type": "code",
   "execution_count": 30,
   "metadata": {},
   "outputs": [
    {
     "name": "stdout",
     "output_type": "stream",
     "text": [
      "125\n",
      "64\n"
     ]
    }
   ],
   "source": [
    "print(func_3(5,3))    #125\n",
    "print(func_3(8))      #매개변수에 기본값이 들어가있는 경우, 매개변수와 인자갯수가 달라도 된다"
   ]
  },
  {
   "cell_type": "code",
   "execution_count": 32,
   "metadata": {},
   "outputs": [],
   "source": [
    "def func_4(input_x, input_y):\n",
    "    result=input_x-input_y\n",
    "    return result"
   ]
  },
  {
   "cell_type": "code",
   "execution_count": 35,
   "metadata": {},
   "outputs": [
    {
     "name": "stdout",
     "output_type": "stream",
     "text": [
      "7\n",
      "-7\n"
     ]
    }
   ],
   "source": [
    "print(func_4(10,3))                     #7\n",
    "print(func_4(input_y=10, input_x=3))    #-7\n",
    "\n",
    "#실제는 매개변수가 굉장히 많다. "
   ]
  },
  {
   "cell_type": "code",
   "execution_count": 41,
   "metadata": {},
   "outputs": [],
   "source": [
    "# 함수를 생성한다 (def )\n",
    "# 함수의 매개변수는 2개-> start, end   (예:1~100까지의 합계)\n",
    "# start부터 시작해, end까지의 누적합을 출력하기\n",
    "# start의 기본값을1,end의 기본값은 10\n",
    "\n",
    "def func_5(start=1, end=10):   #start의 매개변수는1, end의 매개변수는10\n",
    "   \n",
    "    # 합계라는 초기값은 0으로 지정\n",
    "    result=0\n",
    "\n",
    "    #start부터 end까지의 반복을 하는, 반복문 생성하기\n",
    "    for i in range(start, end+1, 1):   #end까지 하면 end는 포함이 안됨,#1씩 증가시켜\n",
    "                                       \n",
    "        #result=result+i\n",
    "        result+=i\n",
    "\n",
    "    #for문 종료 후\n",
    "    return result   #return의 의미는, 되돌려주겠다, 종료하겠다   #조심할 것:return의 위치에 따라 결과값이 다르게 나옴\n",
    "\n"
   ]
  },
  {
   "cell_type": "code",
   "execution_count": 37,
   "metadata": {},
   "outputs": [
    {
     "name": "stdout",
     "output_type": "stream",
     "text": [
      "55\n"
     ]
    }
   ],
   "source": [
    "print(func_5())   #실행(1,11,1)):\n",
    "# for i in range (1,11,1):\n",
    "# result=resu;t+i -> result=0+1\n",
    "# return result -> result를 되돌려주고 함수 종료"
   ]
  },
  {
   "cell_type": "code",
   "execution_count": 42,
   "metadata": {},
   "outputs": [
    {
     "name": "stdout",
     "output_type": "stream",
     "text": [
      "5050\n"
     ]
    }
   ],
   "source": [
    "#100까지 합으로 바꾸기 ( end 매개변수를 100으로)\n",
    "print(func_5(end=100))\n",
    "\n",
    "# 1~100까지의 누적합 도중, 합계가 3000이 넘어가는 최초의 숫자는 몇일까?\n",
    "# 반복문 이용하는 경우\n",
    "# 함수 이용하는 경우"
   ]
  },
  {
   "cell_type": "code",
   "execution_count": 43,
   "metadata": {},
   "outputs": [
    {
     "name": "stdout",
     "output_type": "stream",
     "text": [
      "77\n",
      "3003\n"
     ]
    }
   ],
   "source": [
    "# 1~100까지의 누적합 도중, 합계가 3000이 넘어가는 최초의 숫자는 몇일까?\n",
    "#for 반복문 이용하는 경우\n",
    "\n",
    "#합계 초기값을 지정 0\n",
    "sum_result=0\n",
    "\n",
    "for i in range(1,101,1):\n",
    "    sum_result+=i\n",
    "\n",
    "    #합계가 3000보다 큰 경우 break\n",
    "    if sum_result>3000:\n",
    "        break\n",
    "\n",
    "print(i)\n",
    "print(sum_result)\n"
   ]
  },
  {
   "cell_type": "code",
   "execution_count": 44,
   "metadata": {},
   "outputs": [
    {
     "name": "stdout",
     "output_type": "stream",
     "text": [
      "173\n",
      "15051\n"
     ]
    }
   ],
   "source": [
    "# for문은 반복횟수가 정해져있을때 주로 쓰고, 미지수일때 while반복문을 쓴다\n",
    "\n",
    "#1부터 1씩 증가시켜, 누적합이 15000이 되는 순간의 숫자가 몇인가?\n",
    "sum_result=0\n",
    "\n",
    "for i in range(1,500,1):\n",
    "    sum_result+=i\n",
    "    if sum_result>15000:\n",
    "        break\n",
    "print(i)\n",
    "print(sum_result)"
   ]
  },
  {
   "cell_type": "code",
   "execution_count": 46,
   "metadata": {},
   "outputs": [
    {
     "name": "stdout",
     "output_type": "stream",
     "text": [
      "548\n",
      "150426\n"
     ]
    }
   ],
   "source": [
    "i=1\n",
    "sum_result=0\n",
    "\n",
    "while True:   #반복을 무한반복(True)\n",
    "    sum_result+=i\n",
    "    if sum_result > 150000:\n",
    "        break\n",
    "    i+=1\n",
    "print(i)\n",
    "print(sum_result)"
   ]
  },
  {
   "cell_type": "code",
   "execution_count": null,
   "metadata": {},
   "outputs": [],
   "source": []
  },
  {
   "cell_type": "code",
   "execution_count": 47,
   "metadata": {},
   "outputs": [],
   "source": [
    "# 함수 생성\n",
    "# 매개변수 2개 생성\n",
    "# 매개변수 사이의 값들의 누적합을 출력하는 함수\n",
    "\n",
    "def func_7(x,y):\n",
    "    \n",
    "    # 합계 초기값은 0으로 지정한다\n",
    "    result=0\n",
    "    \n",
    "    # x보다 y가 큰 경우 (예: x가 1, y가 10일때->1~10까지의 누적합)\n",
    "    if x < y:\n",
    "        for i in range(x, y+1, 1):\n",
    "            result+=i\n",
    "\n",
    "\n",
    "    # x보다 y가 작거나 같은 경우 \n",
    "    else:\n",
    "        for i in range(y, x+1, 1):\n",
    "            result += i\n",
    "\n",
    "    return result"
   ]
  },
  {
   "cell_type": "code",
   "execution_count": 48,
   "metadata": {},
   "outputs": [
    {
     "name": "stdout",
     "output_type": "stream",
     "text": [
      "55\n"
     ]
    }
   ],
   "source": [
    "print(func_7(10,1))"
   ]
  },
  {
   "cell_type": "code",
   "execution_count": 49,
   "metadata": {},
   "outputs": [
    {
     "name": "stdout",
     "output_type": "stream",
     "text": [
      "5\n"
     ]
    }
   ],
   "source": [
    "print(func_7(5,5))"
   ]
  },
  {
   "cell_type": "code",
   "execution_count": 54,
   "metadata": {},
   "outputs": [],
   "source": [
    "def func_8(x,y):\n",
    "    result=0\n",
    "\n",
    "    # 시작값이 x와 y중 작은 값\n",
    "    # 종료값이 x와 y중 큰 값에 +1\n",
    "    # 숫자데이터들중 가장 작은 데이터를 출력하는 함수 : min()\n",
    "    # 숫자데이터들중 가장 큰 데이터를 출력하는 함수 : max()\n",
    "\n",
    "    for i in range(min(x,y), max(x,y)+1, 1):\n",
    "        result += i\n",
    "    return result\n",
    "\n",
    "      "
   ]
  },
  {
   "cell_type": "code",
   "execution_count": 55,
   "metadata": {},
   "outputs": [
    {
     "name": "stdout",
     "output_type": "stream",
     "text": [
      "55\n",
      "55\n",
      "5\n"
     ]
    }
   ],
   "source": [
    "print(func_8(1,10))\n",
    "print(func_8(10,1))\n",
    "print(func_8(5,5))"
   ]
  },
  {
   "cell_type": "code",
   "execution_count": 56,
   "metadata": {},
   "outputs": [
    {
     "data": {
      "text/plain": [
       "1"
      ]
     },
     "execution_count": 56,
     "metadata": {},
     "output_type": "execute_result"
    }
   ],
   "source": [
    "min(3,10,1)   #min : 최소값 보여주는 함수"
   ]
  },
  {
   "cell_type": "code",
   "execution_count": 61,
   "metadata": {},
   "outputs": [],
   "source": [
    "#인자의 갯수가 가변일때, 매개값에 *을 붙인다\n",
    "#인자의 개수가 가변인 경우의 함수 생성하기\n",
    "def func_9(*args):          #여러개 인자값을 하나의 변수에 받는다\n",
    "    # print(type(args))\n",
    "    # print(args)\n",
    "    # print(len(args))   #길이\n",
    "\n",
    "    # 가장 작은 값 출력하기( 가변적인 인자값중에서 )\n",
    "    # : 인자값들 중에서 첫번째 데이터를 변수에 대입\n",
    "    result=args[0]\n",
    "\n",
    "    #인자값들중 두번째 데이터부터 반복을 하는 반복문 생성\n",
    "    for i in range(1,len(args),1):\n",
    "        \n",
    "        #result와 args[i]항목을 비교\n",
    "        if result >args [i]:\n",
    "            result=args[i]\n",
    "\n",
    "    return result\n",
    "\n",
    "\n"
   ]
  },
  {
   "cell_type": "code",
   "execution_count": 60,
   "metadata": {},
   "outputs": [
    {
     "name": "stdout",
     "output_type": "stream",
     "text": [
      "<class 'tuple'>\n",
      "(1, 2, 3, 4, 5)\n",
      "5\n",
      "<class 'tuple'>\n",
      "(2, 4, 6, 8)\n",
      "4\n",
      "<class 'tuple'>\n",
      "(1, 2, 3, 4, 5, 6, 7, 8, 9, 10)\n",
      "10\n"
     ]
    }
   ],
   "source": [
    "func_9(1,2,3,4,5)\n",
    "func_9(2,4,6,8)\n",
    "func_9(1,2,3,4,5,6,7,8,9,10)"
   ]
  },
  {
   "cell_type": "code",
   "execution_count": 63,
   "metadata": {},
   "outputs": [
    {
     "name": "stdout",
     "output_type": "stream",
     "text": [
      "42\n"
     ]
    }
   ],
   "source": [
    "print(func_9(59,49,55,42))\n",
    "\n"
   ]
  },
  {
   "cell_type": "markdown",
   "metadata": {},
   "source": [
    "### 실습_함수 예제\n",
    "1. 함수를 생성(def) -> 인자의 개수를 가변(*붙여준다)\n",
    "2. 인자값을 평균값을 출력하는 함수\n",
    "    1) 모든 인자값들을 더한다\n",
    "    2) 더한 데이터를 인자의 개수로 나눠준다\n",
    "    3) 나온 결과값을 되돌려준다"
   ]
  },
  {
   "cell_type": "code",
   "execution_count": 70,
   "metadata": {},
   "outputs": [],
   "source": [
    "def func_10(*a):   #인자의 갯수는 가변이다:*\n",
    "    \n",
    "    #모든 인자값을 더한다 (합계라는 초기값을 0으로 지정)\n",
    "    result=0\n",
    "\n",
    "\n",
    "    \n",
    "\n",
    "    #case1. 합계구하기\n",
    "\n",
    "    # for i in range(0,len(a),1 ):    #i가 의미하는 것은? 자료형 데이터의 위치\n",
    "    #    result=result+a[i]\n",
    "\n",
    "    #case2. 합계구하기\n",
    "    for i in a:      #i가 의미하는 것은? 자료형 데이터의 각 원소의 값\n",
    "        result += i\n",
    "\n",
    "    #case3\n",
    "        # result=sum(a)\n",
    "\n",
    "\n",
    "\n",
    "\n",
    "    #평균값 구하기: 합계에 인자의 갯수만큼으로 나눠준다\n",
    "    result/=len(a)       #result=result/len(a)와 같은 의미다   #라인이 중요함(들여쓰기x)\n",
    "\n",
    "    #결과값을 되돌려준다\n",
    "    return result        #라인이 중요함(들여쓰기x)"
   ]
  },
  {
   "cell_type": "code",
   "execution_count": 71,
   "metadata": {},
   "outputs": [
    {
     "name": "stdout",
     "output_type": "stream",
     "text": [
      "50.0\n",
      "30.0\n"
     ]
    }
   ],
   "source": [
    "print(func_10(20,100,30))\n",
    "print(func_10(10,20,30,40,50))"
   ]
  },
  {
   "cell_type": "code",
   "execution_count": 80,
   "metadata": {},
   "outputs": [
    {
     "name": "stdout",
     "output_type": "stream",
     "text": [
      "22\n",
      "11\n",
      "33\n",
      "88\n"
     ]
    }
   ],
   "source": [
    "_list=(22,11,33,88)\n",
    "\n",
    "for i in range(len(_list)):\n",
    "    print(_list[i])\n",
    " "
   ]
  },
  {
   "cell_type": "code",
   "execution_count": 84,
   "metadata": {},
   "outputs": [
    {
     "name": "stdout",
     "output_type": "stream",
     "text": [
      "22\n",
      "11\n",
      "33\n",
      "88\n"
     ]
    }
   ],
   "source": [
    "for i in _list:\n",
    "    print(i)"
   ]
  },
  {
   "cell_type": "code",
   "execution_count": 86,
   "metadata": {},
   "outputs": [
    {
     "data": {
      "text/plain": [
       "True"
      ]
     },
     "execution_count": 86,
     "metadata": {},
     "output_type": "execute_result"
    }
   ],
   "source": [
    "# in 연산자: 비교연산자 ( 포함유무_포함되어 있니?라고 물어보는 연산자)\n",
    "\n",
    "10 in [11,50,70]    #10이 []안에 있니?\n",
    "11 in [11,50,70]    #11이 []안에 있니? \n",
    " \n"
   ]
  },
  {
   "cell_type": "code",
   "execution_count": 87,
   "metadata": {},
   "outputs": [
    {
     "data": {
      "text/plain": [
       "True"
      ]
     },
     "execution_count": 87,
     "metadata": {},
     "output_type": "execute_result"
    }
   ],
   "source": [
    "_list=[11,50,70]\n",
    "(11 == _list [0]) or (11 == _list[1] or (11 == _list[2]))  #in이라는 연산자의 의미"
   ]
  },
  {
   "cell_type": "code",
   "execution_count": 90,
   "metadata": {},
   "outputs": [],
   "source": [
    "# 인자의 개수가 가변이 아닌 형태의 함수 생성하기\n",
    "# 매개변수에 자료형 데이터를 인자값으로 입력하는 경우\n",
    "\n",
    "#자료형 데이터를 입력받아, 각 원소들의 제곱된 값을 새로운 리스트로 생성하여 되돌려준다\n",
    "def func_11(x):    #x에 자료형 데이터가 들어올거다\n",
    "\n",
    "    #결과값은 비어있는 새로운 리스트를 생성하여, 값들을 추가\n",
    "    result=[]\n",
    "\n",
    "    #x에 원소들을 하나씩 추출하여 제곱한뒤, result에 추가하기\n",
    "    #for문을 쓸때\n",
    "    #while문을 쓸때\n",
    "    i=0   #i는 위치값이다(인덱스값)\n",
    "    while i < len (x):\n",
    "        data=x[i]**2  #반복할때마다 제곱해준다\n",
    "        result.append(data)   #값을 추가한다\n",
    "        i += 1   #이거 안하면 무한루프돈다\n",
    "\n",
    "    return result\n",
    " "
   ]
  },
  {
   "cell_type": "code",
   "execution_count": 93,
   "metadata": {},
   "outputs": [
    {
     "name": "stdout",
     "output_type": "stream",
     "text": [
      "[1, 4, 9, 16]\n"
     ]
    }
   ],
   "source": [
    "print(func_11([1,2,3,4]))  #1의 제곱, 2의 제곱, 3의 제곱, 4의 제곲"
   ]
  },
  {
   "cell_type": "code",
   "execution_count": 94,
   "metadata": {},
   "outputs": [],
   "source": [
    "# map 함수 : 함수를 자료형데이터 길이만큼 호출하겠다\n",
    "# 문법) map(호출할 함수명, 자료형데이터)  <= 뒤의 자료형데이터를, 앞에있는 함수명에 넣어준다\n",
    "\n",
    "# 일반 함수 생성하기\n",
    "def change(x):   #매개변수 x\n",
    "    print(type(x))\n",
    "    result = x**2  #값을 제곱해서\n",
    "    return result  #되돌려준다\n"
   ]
  },
  {
   "cell_type": "code",
   "execution_count": 95,
   "metadata": {},
   "outputs": [
    {
     "data": {
      "text/plain": [
       "<map at 0x1e626e36ad0>"
      ]
     },
     "execution_count": 95,
     "metadata": {},
     "output_type": "execute_result"
    }
   ],
   "source": [
    "map(\n",
    "    change, [1,2,3,4]\n",
    ")                             #주소로 출력된다"
   ]
  },
  {
   "cell_type": "code",
   "execution_count": 96,
   "metadata": {},
   "outputs": [
    {
     "name": "stdout",
     "output_type": "stream",
     "text": [
      "<class 'int'>\n",
      "<class 'int'>\n",
      "<class 'int'>\n",
      "<class 'int'>\n"
     ]
    },
    {
     "data": {
      "text/plain": [
       "[1, 4, 9, 16]"
      ]
     },
     "execution_count": 96,
     "metadata": {},
     "output_type": "execute_result"
    }
   ],
   "source": [
    "list(map(\n",
    "    change, [1,2,3,4]\n",
    ")     )                        #list 형태로 결과값이 만들어진다"
   ]
  },
  {
   "cell_type": "code",
   "execution_count": 97,
   "metadata": {},
   "outputs": [
    {
     "data": {
      "text/plain": [
       "[1, 4, 9, 16]"
      ]
     },
     "execution_count": 97,
     "metadata": {},
     "output_type": "execute_result"
    }
   ],
   "source": [
    "# lambda 함수 : 일반함수는 함수를 선언하고-호출하는데 비해, \n",
    "#: lambda는, 함수를 생성함과 동시에 호출을 한번에 한다\n",
    "# 문법) lambda 매개변수명: 실행될코드\n",
    "\n",
    "list(\n",
    "    map(\n",
    "        lambda x : x**2,    #해당하는 값을 x에 받아, 제곱해줘\n",
    "        [1,2,3,4]\n",
    "    )\n",
    ")"
   ]
  },
  {
   "cell_type": "code",
   "execution_count": 100,
   "metadata": {},
   "outputs": [],
   "source": [
    "def change2(a):\n",
    "    result=a**2\n",
    "    return result"
   ]
  },
  {
   "cell_type": "code",
   "execution_count": 104,
   "metadata": {},
   "outputs": [
    {
     "name": "stdout",
     "output_type": "stream",
     "text": [
      "[1, 4, 9, 16]\n"
     ]
    }
   ],
   "source": [
    "_list=[1,2,3,4]\n",
    "\n",
    "data=[]\n",
    "\n",
    "for i in _list:\n",
    "    # print(i)\n",
    "    change2(i)\n",
    "    #네번 호출한 값을 리스트에 담기\n",
    "    data.append(change2(i))\n",
    "print(data)"
   ]
  },
  {
   "cell_type": "code",
   "execution_count": 112,
   "metadata": {},
   "outputs": [
    {
     "name": "stdout",
     "output_type": "stream",
     "text": [
      "index: 0\n",
      "value: A\n",
      "index: 1\n",
      "value: 01012345678\n",
      "index: 2\n",
      "value: C\n"
     ]
    }
   ],
   "source": [
    "_list=['A', '01012345678','C']\n",
    "\n",
    "res=[]\n",
    "\n",
    "# for i in range (0,3,1):\n",
    "for i in range(0,len(_list),1):\n",
    "    print('index:',i)\n",
    "    print('value:', _list[i])"
   ]
  },
  {
   "cell_type": "code",
   "execution_count": 113,
   "metadata": {},
   "outputs": [
    {
     "name": "stdout",
     "output_type": "stream",
     "text": [
      "[1, 4, 9, 16]\n"
     ]
    }
   ],
   "source": [
    "#map이라는 함수를, 이렇게 풀어본거다\n",
    "\n",
    "_list=[1,2,3,4]\n",
    "res=[]\n",
    "for i in range(0, len(_list),1):\n",
    "    data=change2(_list[i])\n",
    "    res.append(data)\n",
    "\n",
    "print(res)"
   ]
  },
  {
   "cell_type": "markdown",
   "metadata": {},
   "source": [
    "## 변수의 종류\n",
    "# 지금까지 만들어본 변수 3개다.\n",
    "1. 전역 변수 (모든 영역, 어디서든 사용 가능)\n",
    "   -어디서든 사용이 가능한 변수\n",
    "   -함수의 내부에서나 외부에서 어디서든 사용이 가능하다\n",
    "\n",
    "2. 지역 변수 (일정 영역, 특정한 영역 안에서만 사용가능, 제주방언같은, 휘발성 data)\n",
    "   - 한번 쓰면 없어지니, 메모리를 사용할수있는 저장공간을 효율적으로 하려면, 휘발성데이터를 쓰는게 중요하다\n",
    "   - 해당하는 지역에서만 사용이 가능한 변수\n",
    "   - 함수의 내부, 클래스의 내부에서 생성한 변수를 말함\n",
    "   - 해당하는 지역에서 벗어나면, 사용이 불가능한 휘발성 변수다.\n",
    "\n",
    "3. 매개 변수 (함수를 생성할 때)\n",
    "    - 함수를 생성할 때, 함수 내부에서 사용하는 변수의 이름 (함수 안에서만 쓸 수 있는 함수다)\n",
    "    - 해당하는 함수에서만 사용이 가능하다\n",
    "    - 함수 외부에서는 사용이 불가능함\n",
    "    - 매개변수도 지역변수에 해당한다"
   ]
  },
  {
   "cell_type": "code",
   "execution_count": 114,
   "metadata": {},
   "outputs": [
    {
     "name": "stdout",
     "output_type": "stream",
     "text": [
      "good morning\n"
     ]
    }
   ],
   "source": [
    "#전역 변수를 생성하기\n",
    "\n",
    "data_a='good morning'\n",
    "print(data_a)\n"
   ]
  },
  {
   "cell_type": "code",
   "execution_count": 122,
   "metadata": {},
   "outputs": [],
   "source": [
    "# 지역변수 생성하기\n",
    "def func_12():\n",
    "    func_12_result='world'\n",
    "    print(data_a) \n",
    "    print(func_12_result)\n",
    "    return data_a + func_12_result"
   ]
  },
  {
   "cell_type": "code",
   "execution_count": 123,
   "metadata": {},
   "outputs": [
    {
     "name": "stdout",
     "output_type": "stream",
     "text": [
      "good morning\n",
      "world\n",
      "good morning\n",
      "good morningworld\n"
     ]
    },
    {
     "ename": "NameError",
     "evalue": "name 'func_12_result' is not defined",
     "output_type": "error",
     "traceback": [
      "\u001b[1;31m---------------------------------------------------------------------------\u001b[0m",
      "\u001b[1;31mNameError\u001b[0m                                 Traceback (most recent call last)",
      "Cell \u001b[1;32mIn[123], line 6\u001b[0m\n\u001b[0;32m      4\u001b[0m \u001b[38;5;28mprint\u001b[39m(data_a)\n\u001b[0;32m      5\u001b[0m \u001b[38;5;28mprint\u001b[39m(data_b)\n\u001b[1;32m----> 6\u001b[0m \u001b[38;5;28mprint\u001b[39m(\u001b[43mfunc_12_result\u001b[49m)  \u001b[38;5;66;03m#지역변수이니, 에러남(func 안에서만 사용 가능)\u001b[39;00m\n",
      "\u001b[1;31mNameError\u001b[0m: name 'func_12_result' is not defined"
     ]
    }
   ],
   "source": [
    "# 새로운 전역변수를 생성\n",
    "\n",
    "data_b=func_12()   #호출한 결과값을 data_b에 넣겠다\n",
    "print(data_a)\n",
    "print(data_b)\n",
    "print(func_12_result)  #지역변수이니, 에러남(func 안에서만 사용 가능)"
   ]
  },
  {
   "cell_type": "code",
   "execution_count": 125,
   "metadata": {},
   "outputs": [],
   "source": [
    "def func_13(input_a, input_b):\n",
    "    result=input_a + input_b\n",
    "    return result"
   ]
  },
  {
   "cell_type": "code",
   "execution_count": 127,
   "metadata": {},
   "outputs": [
    {
     "name": "stdout",
     "output_type": "stream",
     "text": [
      "15\n"
     ]
    }
   ],
   "source": [
    "data_c=func_13(10,5)\n",
    "print(data_c)"
   ]
  },
  {
   "cell_type": "code",
   "execution_count": 128,
   "metadata": {},
   "outputs": [
    {
     "ename": "NameError",
     "evalue": "name 'input_a' is not defined",
     "output_type": "error",
     "traceback": [
      "\u001b[1;31m---------------------------------------------------------------------------\u001b[0m",
      "\u001b[1;31mNameError\u001b[0m                                 Traceback (most recent call last)",
      "Cell \u001b[1;32mIn[128], line 2\u001b[0m\n\u001b[0;32m      1\u001b[0m \u001b[38;5;66;03m#매개변수는 외부에서 사용이 불가능함\u001b[39;00m\n\u001b[1;32m----> 2\u001b[0m \u001b[38;5;28mprint\u001b[39m(\u001b[43minput_a\u001b[49m)\n\u001b[0;32m      3\u001b[0m \u001b[38;5;28mprint\u001b[39m(input_b) \n",
      "\u001b[1;31mNameError\u001b[0m: name 'input_a' is not defined"
     ]
    }
   ],
   "source": [
    "#매개변수는 외부에서 사용이 불가능함 (매개변수도 지역변수에 해당함)\n",
    "print(input_a)\n",
    "print(input_b) "
   ]
  },
  {
   "cell_type": "code",
   "execution_count": null,
   "metadata": {},
   "outputs": [],
   "source": []
  }
 ],
 "metadata": {
  "kernelspec": {
   "display_name": "Python 3",
   "language": "python",
   "name": "python3"
  },
  "language_info": {
   "codemirror_mode": {
    "name": "ipython",
    "version": 3
   },
   "file_extension": ".py",
   "mimetype": "text/x-python",
   "name": "python",
   "nbconvert_exporter": "python",
   "pygments_lexer": "ipython3",
   "version": "3.11.3"
  }
 },
 "nbformat": 4,
 "nbformat_minor": 2
}
